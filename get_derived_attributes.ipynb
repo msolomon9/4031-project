{
 "cells": [
  {
   "cell_type": "markdown",
   "metadata": {},
   "source": [
    "### load data"
   ]
  },
  {
   "cell_type": "code",
   "execution_count": 1,
   "metadata": {},
   "outputs": [],
   "source": [
    "import pandas as pd"
   ]
  },
  {
   "cell_type": "code",
   "execution_count": 2,
   "metadata": {},
   "outputs": [],
   "source": [
    "df = pd.read_excel('SloganData.xlsx')"
   ]
  },
  {
   "cell_type": "code",
   "execution_count": 3,
   "metadata": {},
   "outputs": [
    {
     "data": {
      "text/html": [
       "<div>\n",
       "<style scoped>\n",
       "    .dataframe tbody tr th:only-of-type {\n",
       "        vertical-align: middle;\n",
       "    }\n",
       "\n",
       "    .dataframe tbody tr th {\n",
       "        vertical-align: top;\n",
       "    }\n",
       "\n",
       "    .dataframe thead th {\n",
       "        text-align: right;\n",
       "    }\n",
       "</style>\n",
       "<table border=\"1\" class=\"dataframe\">\n",
       "  <thead>\n",
       "    <tr style=\"text-align: right;\">\n",
       "      <th></th>\n",
       "      <th>COMPANY</th>\n",
       "      <th>SLOGAN</th>\n",
       "      <th>WORDS</th>\n",
       "    </tr>\n",
       "  </thead>\n",
       "  <tbody>\n",
       "    <tr>\n",
       "      <th>0</th>\n",
       "      <td>3M Company</td>\n",
       "      <td>Science. Applied to life.</td>\n",
       "      <td>4</td>\n",
       "    </tr>\n",
       "    <tr>\n",
       "      <th>1</th>\n",
       "      <td>Abbott Laboratories</td>\n",
       "      <td>Life. To the fullest.</td>\n",
       "      <td>4</td>\n",
       "    </tr>\n",
       "    <tr>\n",
       "      <th>2</th>\n",
       "      <td>AbbVie</td>\n",
       "      <td>People. Passion. Possibilities.</td>\n",
       "      <td>3</td>\n",
       "    </tr>\n",
       "    <tr>\n",
       "      <th>3</th>\n",
       "      <td>Accenture plc</td>\n",
       "      <td>High performance. Delivered.</td>\n",
       "      <td>3</td>\n",
       "    </tr>\n",
       "    <tr>\n",
       "      <th>4</th>\n",
       "      <td>Activision Blizzard</td>\n",
       "      <td>We make Great Games</td>\n",
       "      <td>4</td>\n",
       "    </tr>\n",
       "  </tbody>\n",
       "</table>\n",
       "</div>"
      ],
      "text/plain": [
       "               COMPANY                           SLOGAN  WORDS\n",
       "0           3M Company        Science. Applied to life.      4\n",
       "1  Abbott Laboratories            Life. To the fullest.      4\n",
       "2               AbbVie  People. Passion. Possibilities.      3\n",
       "3        Accenture plc     High performance. Delivered.      3\n",
       "4  Activision Blizzard              We make Great Games      4"
      ]
     },
     "execution_count": 3,
     "metadata": {},
     "output_type": "execute_result"
    }
   ],
   "source": [
    "df.head()"
   ]
  },
  {
   "cell_type": "code",
   "execution_count": 4,
   "metadata": {},
   "outputs": [],
   "source": [
    "df.columns = ['COMPANY', 'SLOGAN', 'WordCount']"
   ]
  },
  {
   "cell_type": "markdown",
   "metadata": {},
   "source": [
    "### add CharacterCount"
   ]
  },
  {
   "cell_type": "code",
   "execution_count": 5,
   "metadata": {},
   "outputs": [],
   "source": [
    "df.loc[:, 'CharacterCount'] = df['SLOGAN'].map(lambda x: len(x))"
   ]
  },
  {
   "cell_type": "markdown",
   "metadata": {},
   "source": [
    "### add WordCount"
   ]
  },
  {
   "cell_type": "code",
   "execution_count": 6,
   "metadata": {},
   "outputs": [],
   "source": [
    "df.loc[:, 'WordCount'] = df['SLOGAN'].map(lambda x: len(x.split(' ')))"
   ]
  },
  {
   "cell_type": "markdown",
   "metadata": {},
   "source": [
    "### add UsePunctuation"
   ]
  },
  {
   "cell_type": "code",
   "execution_count": 7,
   "metadata": {},
   "outputs": [],
   "source": [
    "import re"
   ]
  },
  {
   "cell_type": "code",
   "execution_count": 8,
   "metadata": {},
   "outputs": [],
   "source": [
    "pattern = \"\"\"[.,?!:;/<>\"]\"\"\"\n",
    "# no commas b/c don't want to count contractions"
   ]
  },
  {
   "cell_type": "code",
   "execution_count": 9,
   "metadata": {},
   "outputs": [],
   "source": [
    "df.loc[:, 'UsePunctuation'] = df['SLOGAN'].map(lambda x: 1 if re.search(pattern, x) else 0)"
   ]
  },
  {
   "cell_type": "markdown",
   "metadata": {},
   "source": [
    "### add SentimentScore"
   ]
  },
  {
   "cell_type": "code",
   "execution_count": 10,
   "metadata": {},
   "outputs": [],
   "source": [
    "from vaderSentiment.vaderSentiment import SentimentIntensityAnalyzer as analyser\n",
    "# scores are 1 if super positive, -1 if super negative, 0 if neutral"
   ]
  },
  {
   "cell_type": "code",
   "execution_count": 11,
   "metadata": {},
   "outputs": [],
   "source": [
    "sentiment = analyser()"
   ]
  },
  {
   "cell_type": "code",
   "execution_count": 12,
   "metadata": {},
   "outputs": [],
   "source": [
    "df.loc[:, 'SentimentScore'] = df['SLOGAN'].map(lambda x: sentiment.polarity_scores(x)['compound'])"
   ]
  },
  {
   "cell_type": "markdown",
   "metadata": {},
   "source": [
    "### add NameIncluded"
   ]
  },
  {
   "cell_type": "code",
   "execution_count": 13,
   "metadata": {},
   "outputs": [],
   "source": [
    "def in_name(row):\n",
    "    name = row['COMPANY'].lower().split()\n",
    "    slogan = row['SLOGAN'].lower().split()\n",
    "    \n",
    "    for x in name:\n",
    "        \n",
    "        if x in slogan:\n",
    "            return 1\n",
    "        \n",
    "        else:\n",
    "            pass\n",
    "        \n",
    "    return 0"
   ]
  },
  {
   "cell_type": "code",
   "execution_count": 14,
   "metadata": {},
   "outputs": [],
   "source": [
    "df.loc[:, 'NameIncluded'] = df[['COMPANY', 'SLOGAN']].apply(in_name, axis=1)"
   ]
  },
  {
   "cell_type": "markdown",
   "metadata": {},
   "source": [
    "### add PossessiveIncluded"
   ]
  },
  {
   "cell_type": "code",
   "execution_count": 15,
   "metadata": {},
   "outputs": [],
   "source": [
    "possessives = ['my',\n",
    "               'mine',\n",
    "               'your',\n",
    "               'yours',\n",
    "               'his',\n",
    "               'hers',\n",
    "               'our',\n",
    "               'ours'\n",
    "               'its',\n",
    "               'their',\n",
    "               'theirs']"
   ]
  },
  {
   "cell_type": "code",
   "execution_count": 16,
   "metadata": {},
   "outputs": [],
   "source": [
    "def poss_included(slogan):\n",
    "    slogan = slogan.lower()\n",
    "    for x in possessives:\n",
    "        if x in slogan:\n",
    "            return 1\n",
    "        else:\n",
    "            pass\n",
    "    return 0"
   ]
  },
  {
   "cell_type": "code",
   "execution_count": 17,
   "metadata": {},
   "outputs": [],
   "source": [
    "df.loc[:, 'PossessiveIncluded'] = df['SLOGAN'].map(poss_included)"
   ]
  },
  {
   "cell_type": "markdown",
   "metadata": {},
   "source": [
    "### add RelativePronounIncluded"
   ]
  },
  {
   "cell_type": "code",
   "execution_count": 18,
   "metadata": {},
   "outputs": [],
   "source": [
    "rel_pronouns = ['how',\n",
    "                'that',\n",
    "                'which',\n",
    "                'who',\n",
    "                'whom',\n",
    "                'whose']"
   ]
  },
  {
   "cell_type": "code",
   "execution_count": 19,
   "metadata": {},
   "outputs": [],
   "source": [
    "def rel_pronoun(slogan):\n",
    "    slogan = slogan.lower()\n",
    "    \n",
    "    for x in rel_pronouns:\n",
    "    \n",
    "        if x in slogan:\n",
    "            return 1\n",
    "        \n",
    "        else:\n",
    "            pass\n",
    "    \n",
    "    return 0"
   ]
  },
  {
   "cell_type": "code",
   "execution_count": 20,
   "metadata": {},
   "outputs": [],
   "source": [
    "df.loc[:, 'RelativePronounIncluded'] = df['SLOGAN'].map(rel_pronoun)"
   ]
  },
  {
   "cell_type": "markdown",
   "metadata": {},
   "source": [
    "### add Rhyme"
   ]
  },
  {
   "cell_type": "code",
   "execution_count": 21,
   "metadata": {},
   "outputs": [],
   "source": [
    "from pronouncing import rhymes as check_rhymes"
   ]
  },
  {
   "cell_type": "code",
   "execution_count": 22,
   "metadata": {},
   "outputs": [],
   "source": [
    "def return_if_rhymes(slogan):\n",
    "    slogan = slogan.lower().strip(\"\"\"!@#$%^&*()\"'/-+.,<>~`\"\"\").split()\n",
    "    \n",
    "    for x in slogan:\n",
    "        rhymes = check_rhymes(x)\n",
    "        \n",
    "        for x in rhymes:\n",
    "            \n",
    "            if x in slogan:\n",
    "                return 1\n",
    "            \n",
    "            else:\n",
    "                pass\n",
    "            \n",
    "    return 0"
   ]
  },
  {
   "cell_type": "code",
   "execution_count": 23,
   "metadata": {},
   "outputs": [],
   "source": [
    "df.loc[:, 'Rhymes'] = df['SLOGAN'].map(return_if_rhymes)"
   ]
  },
  {
   "cell_type": "markdown",
   "metadata": {},
   "source": [
    "### add Alliteration"
   ]
  },
  {
   "cell_type": "code",
   "execution_count": 24,
   "metadata": {},
   "outputs": [],
   "source": [
    "def allit(slogan):\n",
    "    slogan = [x[0] for x in slogan.lower().strip(\"\"\"!@#$%^&*()\"'/-+.,<>~`\"\"\").split()]\n",
    "    \n",
    "    return 1 if len(set(slogan)) < len(slogan) else 0"
   ]
  },
  {
   "cell_type": "code",
   "execution_count": 25,
   "metadata": {},
   "outputs": [],
   "source": [
    "df.loc[:, 'Alliteration'] = df['SLOGAN'].map(allit)"
   ]
  },
  {
   "cell_type": "markdown",
   "metadata": {},
   "source": [
    "### add AlliterationScore"
   ]
  },
  {
   "cell_type": "code",
   "execution_count": 26,
   "metadata": {},
   "outputs": [],
   "source": [
    "# returns fraction of words that start with the same letter as another word\n",
    "# ex. \"ad alliteration project\" = 0.66, \"ad alliteration\" = 1.00"
   ]
  },
  {
   "cell_type": "code",
   "execution_count": 27,
   "metadata": {},
   "outputs": [],
   "source": [
    "def allit_score(slogan):\n",
    "    slogan = [x[0] for x in slogan.lower().strip(\"\"\"!@#$%^&*()\"'/-+.,<>~`\"\"\").split()]\n",
    "    num = len(slogan)\n",
    "    \n",
    "    unmatched = 0\n",
    "    for x in slogan:\n",
    "        \n",
    "        if slogan.count(x) >= 2:\n",
    "            pass\n",
    "        \n",
    "        else:\n",
    "            unmatched += 1\n",
    "    \n",
    "    return (num - unmatched) / num"
   ]
  },
  {
   "cell_type": "code",
   "execution_count": 28,
   "metadata": {},
   "outputs": [],
   "source": [
    "df.loc[:, 'AlliterationScore'] = df['SLOGAN'].map(allit_score)"
   ]
  },
  {
   "cell_type": "markdown",
   "metadata": {},
   "source": [
    "### CapitalizationScore"
   ]
  },
  {
   "cell_type": "code",
   "execution_count": 29,
   "metadata": {},
   "outputs": [],
   "source": [
    "# fraction of words in slogan that are capitalized"
   ]
  },
  {
   "cell_type": "code",
   "execution_count": 32,
   "metadata": {},
   "outputs": [],
   "source": [
    "def cap_score(slogan):\n",
    "    alph = list(filter(str.isalpha, slogan))\n",
    "    return sum(map(str.isupper, alph)) / len(alph)"
   ]
  },
  {
   "cell_type": "code",
   "execution_count": 33,
   "metadata": {},
   "outputs": [],
   "source": [
    "df.loc[:, 'CapitalizationScore'] = df['SLOGAN'].map(cap_score)"
   ]
  },
  {
   "cell_type": "markdown",
   "metadata": {},
   "source": [
    "### export"
   ]
  },
  {
   "cell_type": "code",
   "execution_count": 34,
   "metadata": {},
   "outputs": [],
   "source": [
    "df.to_excel('SloganData+DerivedAttributes.xlsx')"
   ]
  },
  {
   "cell_type": "code",
   "execution_count": null,
   "metadata": {},
   "outputs": [],
   "source": []
  }
 ],
 "metadata": {
  "kernelspec": {
   "display_name": "Python 3",
   "language": "python",
   "name": "python3"
  },
  "language_info": {
   "codemirror_mode": {
    "name": "ipython",
    "version": 3
   },
   "file_extension": ".py",
   "mimetype": "text/x-python",
   "name": "python",
   "nbconvert_exporter": "python",
   "pygments_lexer": "ipython3",
   "version": "3.7.5"
  }
 },
 "nbformat": 4,
 "nbformat_minor": 4
}
